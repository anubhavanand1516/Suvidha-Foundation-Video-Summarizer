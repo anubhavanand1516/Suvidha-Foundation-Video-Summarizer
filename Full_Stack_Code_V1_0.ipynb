{
  "nbformat": 4,
  "nbformat_minor": 0,
  "metadata": {
    "colab": {
      "name": "Full_Stack_Code - V1.0.ipynb",
      "provenance": [],
      "collapsed_sections": [],
      "include_colab_link": true
    },
    "kernelspec": {
      "name": "python3",
      "display_name": "Python 3"
    },
    "language_info": {
      "name": "python"
    }
  },
  "cells": [
    {
      "cell_type": "markdown",
      "metadata": {
        "id": "view-in-github",
        "colab_type": "text"
      },
      "source": [
        "<a href=\"https://colab.research.google.com/github/Subhajit53/Suvidha-Foundation-Video-Summarizer/blob/main/Full_Stack_Code_V1_0.ipynb\" target=\"_parent\"><img src=\"https://colab.research.google.com/assets/colab-badge.svg\" alt=\"Open In Colab\"/></a>"
      ]
    },
    {
      "cell_type": "code",
      "execution_count": 1,
      "metadata": {
        "id": "etC4wuOA3gl-"
      },
      "outputs": [],
      "source": [
        "import h5py\n",
        "import numpy as np\n",
        "import tensorflow.keras as Keras\n",
        "from sklearn.model_selection import train_test_split"
      ]
    },
    {
      "cell_type": "code",
      "source": [
        "from google.colab import drive\n",
        "drive.mount('/content/drive')"
      ],
      "metadata": {
        "colab": {
          "base_uri": "https://localhost:8080/"
        },
        "id": "IKSqb2wClWM5",
        "outputId": "b43f500b-0ee2-4895-ae22-713338080880"
      },
      "execution_count": null,
      "outputs": [
        {
          "output_type": "stream",
          "name": "stdout",
          "text": [
            "Mounted at /content/drive\n"
          ]
        }
      ]
    },
    {
      "cell_type": "code",
      "source": [
        "class DataGenerator(Keras.utils.Sequence):\n",
        "\n",
        "    def __init__(self,dataset,batch_size=5,shuffle=False):\n",
        "\n",
        "        self.dataset = dataset\n",
        "        self.batch_size = batch_size\n",
        "        self.shuffle = shuffle\n",
        "        self.on_epoch_end()\n",
        "\n",
        "    def __len__(self):\n",
        "\n",
        "        return int(np.floor(len(self.dataset)/self.batch_size))\n",
        "\n",
        "    def __getitem__(self,index):\n",
        "\n",
        "        indexes = self.indices[index * self.batch_size : (index+1) * self.batch_size]\n",
        "        feature, label = self.__data_generation(indexes)\n",
        "\n",
        "        return feature, label\n",
        "\n",
        "    def __data_generation(self,indexes):\n",
        "\n",
        "        feature = np.empty((self.batch_size,320,1024))\n",
        "        label = np.empty((self.batch_size,320,1))\n",
        "\n",
        "        for i in range(len(indexes)):\n",
        "            feature[i,] = np.array(self.dataset[indexes[i]][0])\n",
        "            label[i,] = np.array(self.dataset[indexes[i]][1]).reshape(-1,1)\n",
        "\n",
        "        return feature,label\n",
        "\n",
        "    def on_epoch_end(self):\n",
        "\n",
        "        self.indices = np.arange(len(self.dataset))\n",
        "        if self.shuffle == True:\n",
        "            np.random.shuffle(self.indices)"
      ],
      "metadata": {
        "id": "i9Tyr4vV5G3E"
      },
      "execution_count": 2,
      "outputs": []
    },
    {
      "cell_type": "code",
      "source": [
        ""
      ],
      "metadata": {
        "id": "99n8lEJ_lW0D"
      },
      "execution_count": null,
      "outputs": []
    }
  ]
}